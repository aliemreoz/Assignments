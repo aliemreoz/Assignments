{
 "cells": [
  {
   "cell_type": "code",
   "execution_count": 524,
   "metadata": {
    "collapsed": false
   },
   "outputs": [],
   "source": [
    "from pyspark.sql import SQLContext\n",
    "sqlContext = SQLContext(sc)\n",
    "\n",
    "# @hidden_cell\n",
    "# This function is used to setup the access of Spark to your Object Storage. The definition contains your credentials.\n",
    "# You might want to remove those credentials before you share your notebook.\n",
    "def set_hadoop_config_with_credentials_f15951a462a94810bc60e89283900cad(name):\n",
    "    \"\"\"This function sets the Hadoop configuration so it is possible to\n",
    "    access data from Bluemix Object Storage using Spark\"\"\"\n",
    "\n",
    "    prefix = 'fs.swift.service.' + name\n",
    "    hconf = sc._jsc.hadoopConfiguration()\n",
    "    hconf.set(prefix + '.auth.url', 'https://identity.open.softlayer.com'+'/v3/auth/tokens')\n",
    "    hconf.set(prefix + '.auth.endpoint.prefix', 'endpoints')\n",
    "    hconf.set(prefix + '.tenant', 'f8ad0f3da24b49ddb42b702d93bda378')\n",
    "    hconf.set(prefix + '.username', '47c0822f6f47447d9b91f4d987c98cb5')\n",
    "    hconf.set(prefix + '.password', 'ew[iAL9XqDs8O*^S')\n",
    "    hconf.setInt(prefix + '.http.port', 8080)\n",
    "    hconf.set(prefix + '.region', 'dallas')\n",
    "    hconf.setBoolean(prefix + '.public', False)\n",
    "\n",
    "# you can choose any name\n",
    "name = 'keystone'\n",
    "set_hadoop_config_with_credentials_f15951a462a94810bc60e89283900cad(name)\n",
    "\n",
    "df_data_1 = sqlContext.read.format('com.databricks.spark.csv')\\\n",
    "  .options(header='true', inferschema='true')\\\n",
    "  .load(\"swift://CS3401.\" + name + \"/triangles.csv\")"
   ]
  },
  {
   "cell_type": "code",
   "execution_count": 525,
   "metadata": {
    "collapsed": false
   },
   "outputs": [],
   "source": [
    "#creating main rdd\n",
    "coordinates = sc.textFile((\"swift://CS3401.\" + name + \"/triangles.csv\"))"
   ]
  },
  {
   "cell_type": "code",
   "execution_count": 526,
   "metadata": {
    "collapsed": true
   },
   "outputs": [],
   "source": [
    "### PART 1 ###"
   ]
  },
  {
   "cell_type": "code",
   "execution_count": 527,
   "metadata": {
    "collapsed": true
   },
   "outputs": [],
   "source": [
    "#function that checks triangle inequality\n",
    "def isTriangle(coordinateTriplets):\n",
    "    x1 = int(coordinateTriplets.split(\",\")[0].split(\" \")[0])\n",
    "    y1 = int(coordinateTriplets.split(\",\")[0].split(\" \")[1])\n",
    "    x2 = int(coordinateTriplets.split(\",\")[1].split(\" \")[1])\n",
    "    y2 = int(coordinateTriplets.split(\",\")[1].split(\" \")[2])\n",
    "    x3 = int(coordinateTriplets.split(\",\")[2].split(\" \")[1])\n",
    "    y3 = int(coordinateTriplets.split(\",\")[2].split(\" \")[2])\n",
    "\n",
    "    a = ((x1 - x3) ** 2 + (y1 - y3) ** 2) ** (0.5)\n",
    "    b = ((x1 - x2) ** 2 + (y1 - y2) ** 2) ** (0.5)\n",
    "    c = ((x2 - x3) ** 2 + (y2 - y3) ** 2) ** (0.5)\n",
    "\n",
    "    sides = [a, b, c]\n",
    "    small, mid, big = sorted(sides)\n",
    "    if small==0:\n",
    "        return False\n",
    "    elif mid==0:\n",
    "        return False\n",
    "    elif big==0:\n",
    "        return False\n",
    "    else:\n",
    "        return small + mid > big"
   ]
  },
  {
   "cell_type": "code",
   "execution_count": 528,
   "metadata": {
    "collapsed": false
   },
   "outputs": [],
   "source": [
    "#filtering rdd based on triangle inequality\n",
    "valid_triangles = coordinates.filter(isTriangle)"
   ]
  },
  {
   "cell_type": "code",
   "execution_count": 529,
   "metadata": {
    "collapsed": false
   },
   "outputs": [
    {
     "data": {
      "text/plain": [
       "[u'13 27, 68 55, 12 62',\n",
       " u'64 96, 91 62, 43 51',\n",
       " u'28 44, 93 59, 68 4',\n",
       " u'60 8, 87 65, 93 98',\n",
       " u'4 65, 2 77, 18 85',\n",
       " u'82 50, 79 69, 11 68',\n",
       " u'58 10, 4 20, 39 11',\n",
       " u'76 0, 61 93, 29 94',\n",
       " u'63 87, 79 96, 15 35',\n",
       " u'32 56, 90 4, 89 26']"
      ]
     },
     "execution_count": 529,
     "metadata": {},
     "output_type": "execute_result"
    }
   ],
   "source": [
    "#sample of valid triangles\n",
    "valid_triangles.take(10)"
   ]
  },
  {
   "cell_type": "code",
   "execution_count": 530,
   "metadata": {
    "collapsed": false
   },
   "outputs": [
    {
     "name": "stdout",
     "output_type": "stream",
     "text": [
      "There is 999074 valid triangles in this dataset.\n"
     ]
    }
   ],
   "source": [
    "#counting the valid triangles\n",
    "number_of_valid_triangles = valid_triangles.count()\n",
    "print \"There is \"+str(number_of_valid_triangles)+\" valid triangles in this dataset.\""
   ]
  },
  {
   "cell_type": "code",
   "execution_count": 531,
   "metadata": {
    "collapsed": true
   },
   "outputs": [],
   "source": [
    "### PART 2 ###"
   ]
  },
  {
   "cell_type": "code",
   "execution_count": 532,
   "metadata": {
    "collapsed": false
   },
   "outputs": [],
   "source": [
    "#function that returns first coordinate.\n",
    "def vertex1(coordinateTriplets):\n",
    "    x1 = int(coordinateTriplets.split(\",\")[0].split(\" \")[0])\n",
    "    y1 = int(coordinateTriplets.split(\",\")[0].split(\" \")[1])   \n",
    "    return (x1,y1)"
   ]
  },
  {
   "cell_type": "code",
   "execution_count": 533,
   "metadata": {
    "collapsed": true
   },
   "outputs": [],
   "source": [
    "#function that returns second coordinate.\n",
    "def vertex2(coordinateTriplets):\n",
    "    x2 = int(coordinateTriplets.split(\",\")[1].split(\" \")[1])\n",
    "    y2 = int(coordinateTriplets.split(\",\")[1].split(\" \")[2])\n",
    "    return (x2,y2)"
   ]
  },
  {
   "cell_type": "code",
   "execution_count": 534,
   "metadata": {
    "collapsed": true
   },
   "outputs": [],
   "source": [
    "#function that returns third coordinate.\n",
    "def vertex3(coordinateTriplets):    \n",
    "    x3 = int(coordinateTriplets.split(\",\")[2].split(\" \")[1])\n",
    "    y3 = int(coordinateTriplets.split(\",\")[2].split(\" \")[2])\n",
    "    return (x3,y3)"
   ]
  },
  {
   "cell_type": "code",
   "execution_count": 535,
   "metadata": {
    "collapsed": false
   },
   "outputs": [],
   "source": [
    "vertexes1 = (valid_triangles.map(vertex1))"
   ]
  },
  {
   "cell_type": "code",
   "execution_count": 536,
   "metadata": {
    "collapsed": true
   },
   "outputs": [],
   "source": [
    "vertexes2 = (valid_triangles.map(vertex2))"
   ]
  },
  {
   "cell_type": "code",
   "execution_count": 537,
   "metadata": {
    "collapsed": true
   },
   "outputs": [],
   "source": [
    "vertexes3 = (valid_triangles.map(vertex3))"
   ]
  },
  {
   "cell_type": "code",
   "execution_count": 538,
   "metadata": {
    "collapsed": false
   },
   "outputs": [],
   "source": [
    "#creating dictionary of coordinate and its frequency\n",
    "vertexes = vertexes1.union(vertexes2).union(vertexes3).map(lambda x: (x,1)).reduceByKey(lambda x,y: x+y).collectAsMap()"
   ]
  },
  {
   "cell_type": "code",
   "execution_count": 539,
   "metadata": {
    "collapsed": true
   },
   "outputs": [],
   "source": [
    "#function that returns triangle and it's total neighbours\n",
    "def neighbours(coordinateTriplets):\n",
    "    x1 = int(coordinateTriplets.split(\",\")[0].split(\" \")[0])\n",
    "    y1 = int(coordinateTriplets.split(\",\")[0].split(\" \")[1])\n",
    "    x2 = int(coordinateTriplets.split(\",\")[1].split(\" \")[1])\n",
    "    y2 = int(coordinateTriplets.split(\",\")[1].split(\" \")[2])\n",
    "    x3 = int(coordinateTriplets.split(\",\")[2].split(\" \")[1])\n",
    "    y3 = int(coordinateTriplets.split(\",\")[2].split(\" \")[2])\n",
    "    \n",
    "    v1 = (x1,y1)\n",
    "    v2 = (x2,y2)\n",
    "    v3 = (x3,y3)\n",
    "    \n",
    "    v1_count = vertexes[v1]\n",
    "    v2_count = vertexes[v2]\n",
    "    v3_count = vertexes[v3]\n",
    "    \n",
    "    v_count = (v1_count + v2_count + v3_count) - 3\n",
    "    \n",
    "    return (coordinateTriplets,v_count)"
   ]
  },
  {
   "cell_type": "code",
   "execution_count": 540,
   "metadata": {
    "collapsed": true
   },
   "outputs": [],
   "source": [
    "neighbours_rdd = valid_triangles.map(neighbours)"
   ]
  },
  {
   "cell_type": "code",
   "execution_count": 541,
   "metadata": {
    "collapsed": false
   },
   "outputs": [
    {
     "data": {
      "text/plain": [
       "[(u'13 27, 68 55, 12 62', 902),\n",
       " (u'64 96, 91 62, 43 51', 902),\n",
       " (u'28 44, 93 59, 68 4', 897),\n",
       " (u'60 8, 87 65, 93 98', 901),\n",
       " (u'4 65, 2 77, 18 85', 898),\n",
       " (u'82 50, 79 69, 11 68', 903),\n",
       " (u'58 10, 4 20, 39 11', 868),\n",
       " (u'76 0, 61 93, 29 94', 922),\n",
       " (u'63 87, 79 96, 15 35', 846),\n",
       " (u'32 56, 90 4, 89 26', 837)]"
      ]
     },
     "execution_count": 541,
     "metadata": {},
     "output_type": "execute_result"
    }
   ],
   "source": [
    "#sample of total neighbours of some triangles\n",
    "neighbours_rdd.take(10)"
   ]
  },
  {
   "cell_type": "code",
   "execution_count": 542,
   "metadata": {
    "collapsed": false
   },
   "outputs": [
    {
     "data": {
      "image/png": "[encoded data removed]",
      "text/plain": [
       "<matplotlib.figure.Figure at 0x7ff9273d4810>"
      ]
     },
     "metadata": {},
     "output_type": "display_data"
    }
   ],
   "source": [
    "%matplotlib inline\n",
    "import matplotlib.pyplot as plt\n",
    "bins = 100\n",
    "plt.hist(neighbours_rdd.values().collect(), bins, histtype='bar',rwidth=1.2)\n",
    "\n",
    "plt.xlabel('Number of Neighbours')\n",
    "plt.ylabel('Frequency')\n",
    "plt.title('Histogram of Neighbours')\n",
    "plt.show()"
   ]
  },
  {
   "cell_type": "code",
   "execution_count": 543,
   "metadata": {
    "collapsed": false
   },
   "outputs": [
    {
     "name": "stdout",
     "output_type": "stream",
     "text": [
      "The mean of the number of neighbours is 881.\n"
     ]
    }
   ],
   "source": [
    "mean = neighbours_rdd.values().sum()/neighbours_rdd.count()\n",
    "print \"The mean of the number of neighbours is \"+str(mean)+\".\""
   ]
  },
  {
   "cell_type": "code",
   "execution_count": 544,
   "metadata": {
    "collapsed": true
   },
   "outputs": [],
   "source": [
    "##PART 3"
   ]
  },
  {
   "cell_type": "code",
   "execution_count": 545,
   "metadata": {
    "collapsed": true
   },
   "outputs": [],
   "source": [
    "#function that finds circumferences of triangle\n",
    "def circumferences(coordinateTriplets):\n",
    "    x1 = int(coordinateTriplets.split(\",\")[0].split(\" \")[0])\n",
    "    y1 = int(coordinateTriplets.split(\",\")[0].split(\" \")[1])\n",
    "    x2 = int(coordinateTriplets.split(\",\")[1].split(\" \")[1])\n",
    "    y2 = int(coordinateTriplets.split(\",\")[1].split(\" \")[2])\n",
    "    x3 = int(coordinateTriplets.split(\",\")[2].split(\" \")[1])\n",
    "    y3 = int(coordinateTriplets.split(\",\")[2].split(\" \")[2])\n",
    "    \n",
    "    a = ((x1 - x3) ** 2 + (y1 - y3) ** 2) ** (0.5)\n",
    "    b = ((x1 - x2) ** 2 + (y1 - y2) ** 2) ** (0.5)\n",
    "    c = ((x2 - x3) ** 2 + (y2 - y3) ** 2) ** (0.5)\n",
    "    \n",
    "    circum = a + b + c\n",
    "    return (coordinateTriplets,circum)"
   ]
  },
  {
   "cell_type": "code",
   "execution_count": 546,
   "metadata": {
    "collapsed": false
   },
   "outputs": [],
   "source": [
    "#rdd of circumferences\n",
    "circumferences_rdd = valid_triangles.map(circumferences)"
   ]
  },
  {
   "cell_type": "code",
   "execution_count": 547,
   "metadata": {
    "collapsed": false
   },
   "outputs": [
    {
     "data": {
      "text/plain": [
       "[(u'13 27, 68 55, 12 62', 153.16718353495094),\n",
       " (u'64 96, 91 62, 43 51', 142.3197117729059),\n",
       " (u'28 44, 93 59, 68 4', 183.69209268352833),\n",
       " (u'60 8, 87 65, 93 98', 192.4716796394055),\n",
       " (u'4 65, 2 77, 18 85', 54.46718011206216),\n",
       " (u'82 50, 79 69, 11 68', 160.4888969142685),\n",
       " (u'58 10, 4 20, 39 11', 110.08304046060968),\n",
       " (u'76 0, 61 93, 29 94', 231.31272693829985),\n",
       " (u'63 87, 79 96, 15 35', 177.53858363035727),\n",
       " (u'32 56, 90 4, 89 26', 164.33281558289866)]"
      ]
     },
     "execution_count": 547,
     "metadata": {},
     "output_type": "execute_result"
    }
   ],
   "source": [
    "#sample of circumferences of triangles\n",
    "circumferences_rdd.take(10)"
   ]
  },
  {
   "cell_type": "code",
   "execution_count": 548,
   "metadata": {
    "collapsed": false
   },
   "outputs": [],
   "source": [
    "#same function as \"circumferences\" but it returns circumferences,coordinateTriplets\n",
    "def circumferences_by_key(coordinateTriplets):\n",
    "    x1 = int(coordinateTriplets.split(\",\")[0].split(\" \")[0])\n",
    "    y1 = int(coordinateTriplets.split(\",\")[0].split(\" \")[1])\n",
    "    x2 = int(coordinateTriplets.split(\",\")[1].split(\" \")[1])\n",
    "    y2 = int(coordinateTriplets.split(\",\")[1].split(\" \")[2])\n",
    "    x3 = int(coordinateTriplets.split(\",\")[2].split(\" \")[1])\n",
    "    y3 = int(coordinateTriplets.split(\",\")[2].split(\" \")[2])\n",
    "    \n",
    "    a = ((x1 - x3) ** 2 + (y1 - y3) ** 2) ** (0.5)\n",
    "    b = ((x1 - x2) ** 2 + (y1 - y2) ** 2) ** (0.5)\n",
    "    c = ((x2 - x3) ** 2 + (y2 - y3) ** 2) ** (0.5)\n",
    "    \n",
    "    circum = a + b + c\n",
    "    return (circum,coordinateTriplets)"
   ]
  },
  {
   "cell_type": "code",
   "execution_count": 549,
   "metadata": {
    "collapsed": true
   },
   "outputs": [],
   "source": [
    "#rdd of circumferences according to it's circumferences,coordinateTriplets\n",
    "circumferences_rdd_by_key = valid_triangles.map(circumferences_by_key)"
   ]
  },
  {
   "cell_type": "code",
   "execution_count": 550,
   "metadata": {
    "collapsed": false
   },
   "outputs": [],
   "source": [
    "#top 10000 circumferences as a list\n",
    "top_ten_thousand = circumferences_rdd_by_key.top(10000)"
   ]
  },
  {
   "cell_type": "code",
   "execution_count": 551,
   "metadata": {
    "collapsed": true
   },
   "outputs": [],
   "source": [
    "#rdd of top 10000 circumferences\n",
    "rdd3 = sc.parallelize(top_ten_thousand)"
   ]
  },
  {
   "cell_type": "code",
   "execution_count": 552,
   "metadata": {
    "collapsed": false
   },
   "outputs": [],
   "source": [
    "#reswap it's key,value\n",
    "def swap_key_value(tup):\n",
    "    return (tup[1],tup[0])"
   ]
  },
  {
   "cell_type": "code",
   "execution_count": 553,
   "metadata": {
    "collapsed": false
   },
   "outputs": [],
   "source": [
    "#generate dictionary of coordinates and circumferences.\n",
    "top_dict = rdd3.map(swap_key_value).collectAsMap()"
   ]
  },
  {
   "cell_type": "code",
   "execution_count": 554,
   "metadata": {
    "collapsed": false
   },
   "outputs": [],
   "source": [
    "#generate dictionary of coordinates and neighbours.\n",
    "neigbours_dict = neighbours_rdd.collectAsMap()"
   ]
  },
  {
   "cell_type": "code",
   "execution_count": 555,
   "metadata": {
    "collapsed": true
   },
   "outputs": [],
   "source": [
    "#function that returns circumferences and neighbours of triangles.\n",
    "def Scatter(tup):\n",
    "    x = top_dict[tup[1]]\n",
    "    y = neigbours_dict[tup[1]]\n",
    "    return (x,y)"
   ]
  },
  {
   "cell_type": "code",
   "execution_count": 556,
   "metadata": {
    "collapsed": false
   },
   "outputs": [],
   "source": [
    "circum_neighbours = rdd3.map(Scatter)"
   ]
  },
  {
   "cell_type": "code",
   "execution_count": 561,
   "metadata": {
    "collapsed": false
   },
   "outputs": [
    {
     "data": {
      "image/png": "[encoded data removed]",
      "text/plain": [
       "<matplotlib.figure.Figure at 0x7ffa200d4f90>"
      ]
     },
     "metadata": {},
     "output_type": "display_data"
    }
   ],
   "source": [
    "%matplotlib inline\n",
    "import matplotlib.pyplot as plt\n",
    "\n",
    "plt.scatter(circum_neighbours.keys().collect(),circum_neighbours.values().collect(), label='skitscat', color='r')\n",
    "\n",
    "plt.xlabel('Circumferences')\n",
    "plt.ylabel('Neighbours')\n",
    "plt.title('Scatter plot of circumferences and neighbours')\n",
    "plt.show()"
   ]
  },
  {
   "cell_type": "code",
   "execution_count": 558,
   "metadata": {
    "collapsed": true
   },
   "outputs": [],
   "source": [
    "### END OF ASSIGNMENT 1 ###"
   ]
  }
 ],
 "metadata": {
  "kernelspec": {
   "display_name": "Python 2 with Spark 1.6",
   "language": "python",
   "name": "python2"
  },
  "language_info": {
   "codemirror_mode": {
    "name": "ipython",
    "version": 2.0
   },
   "file_extension": ".py",
   "mimetype": "text/x-python",
   "name": "python",
   "nbconvert_exporter": "python",
   "pygments_lexer": "ipython2",
   "version": "2.7.11"
  }
 },
 "nbformat": 4,
 "nbformat_minor": 0
}